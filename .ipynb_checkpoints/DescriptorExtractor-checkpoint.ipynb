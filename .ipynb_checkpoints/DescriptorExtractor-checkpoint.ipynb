{
 "cells": [
  {
   "cell_type": "code",
   "execution_count": 3,
   "metadata": {
    "scrolled": true
   },
   "outputs": [],
   "source": [
    "import cv2\n",
    "import os\n",
    "from matplotlib import pyplot as plt\n",
    "from sklearn.cluster import KMeans\n",
    "from collections import Counter\n",
    "from sklearn.neighbors import NearestNeighbors\n",
    "import numpy as np\n",
    "import bz2, gzip, pickle"
   ]
  },
  {
   "cell_type": "code",
   "execution_count": 4,
   "metadata": {},
   "outputs": [],
   "source": [
    "%load_ext line_profiler"
   ]
  },
  {
   "cell_type": "code",
   "execution_count": 5,
   "metadata": {},
   "outputs": [],
   "source": [
    "index_im_fol = os.path.abspath(\"Images/index\")\n",
    "index_images_nl = [x for x in os.listdir(index_im_fol)]\n",
    "index_images = [os.path.join(index_im_fol, x) for x in os.listdir(index_im_fol)]"
   ]
  },
  {
   "cell_type": "code",
   "execution_count": 6,
   "metadata": {},
   "outputs": [],
   "source": [
    "index_descriptors = {}\n",
    "surf = cv2.xfeatures2d.SURF_create(1000)"
   ]
  },
  {
   "cell_type": "code",
   "execution_count": 7,
   "metadata": {},
   "outputs": [],
   "source": [
    "# def multi_descrip(idx, image):\n",
    "#     surf = cv2.xfeatures2d.SURF_create(10000)\n",
    "#     global index_descriptors\n",
    "#     img = cv2.imread(image)\n",
    "#     img = cv2.cvtColor(img, cv2.COLOR_BGR2GRAY)\n",
    "#     kp, des = surf.detectAndCompute(img,None)\n",
    "#     if des is not None:\n",
    "#         return (idx,dex)"
   ]
  },
  {
   "cell_type": "code",
   "execution_count": 8,
   "metadata": {},
   "outputs": [],
   "source": [
    "# def parallelize_multi_descrip(kargs):\n",
    "#     multi_descrip(*kargs)"
   ]
  },
  {
   "cell_type": "code",
   "execution_count": 27,
   "metadata": {},
   "outputs": [],
   "source": [
    "def pickle_desc(i_desc, count):\n",
    "    with gzip.open('index_descrip/descriptor_dictionary_' + str(count) + '.pickle', 'wb') as file:\n",
    "        pickle.dump(i_desc, file, protocol=pickle.HIGHEST_PROTOCOL)"
   ]
  },
  {
   "cell_type": "code",
   "execution_count": 28,
   "metadata": {},
   "outputs": [],
   "source": [
    "count = 0\n",
    "def descrip():\n",
    "    global index_descriptors, count\n",
    "    for idx, image in enumerate(index_images):\n",
    "        img = cv2.imread(image)\n",
    "        img = cv2.cvtColor(img, cv2.COLOR_BGR2GRAY)\n",
    "        kp, des = surf.detectAndCompute(img,None)\n",
    "        if des is not None:\n",
    "            index_descriptors[index_images_nl[idx]] = des\n",
    "        if idx % 1000 == 0 and idx != 0:\n",
    "            pickle_desc(index_descriptors, count)\n",
    "            print('Saved: ', count)\n",
    "            count += 1\n",
    "            del index_descriptors\n",
    "            index_descriptors = {}"
   ]
  },
  {
   "cell_type": "code",
   "execution_count": 29,
   "metadata": {},
   "outputs": [
    {
     "name": "stdout",
     "output_type": "stream",
     "text": [
      "Saved:  0\n",
      "Saved:  1\n"
     ]
    }
   ],
   "source": [
    "%lprun -f descrip descrip()\n",
    "# 70s"
   ]
  },
  {
   "cell_type": "code",
   "execution_count": null,
   "metadata": {},
   "outputs": [],
   "source": []
  },
  {
   "cell_type": "code",
   "execution_count": 12,
   "metadata": {
    "scrolled": true
   },
   "outputs": [],
   "source": [
    "descrip_vec = None\n",
    "for des in index_descriptors.values():\n",
    "    if descrip_vec is None:\n",
    "        descrip_vec = des\n",
    "    else:\n",
    "        descrip_vec = np.concatenate((descrip_vec, des), axis=0)"
   ]
  },
  {
   "cell_type": "code",
   "execution_count": 13,
   "metadata": {},
   "outputs": [
    {
     "data": {
      "text/plain": [
       "(136, 64)"
      ]
     },
     "execution_count": 13,
     "metadata": {},
     "output_type": "execute_result"
    }
   ],
   "source": [
    "descrip_vec.shape"
   ]
  },
  {
   "cell_type": "code",
   "execution_count": 14,
   "metadata": {},
   "outputs": [],
   "source": [
    "with gzip.open('descrip_vec.pickle', 'wb') as file:\n",
    "    pickle.dump(index_descriptors, file, protocol=pickle.HIGHEST_PROTOCOL)"
   ]
  },
  {
   "cell_type": "code",
   "execution_count": null,
   "metadata": {},
   "outputs": [],
   "source": []
  },
  {
   "cell_type": "code",
   "execution_count": null,
   "metadata": {},
   "outputs": [],
   "source": []
  },
  {
   "cell_type": "code",
   "execution_count": 49,
   "metadata": {},
   "outputs": [],
   "source": [
    "km = None\n",
    "def cluster():\n",
    "    global km\n",
    "    km = KMeans(n_clusters = 1000).fit(descrip_vec)"
   ]
  },
  {
   "cell_type": "markdown",
   "metadata": {},
   "source": [
    "The documentation suggests to try MiniBatchKMeans for large data, much faster than regular KMeans"
   ]
  },
  {
   "cell_type": "code",
   "execution_count": null,
   "metadata": {},
   "outputs": [],
   "source": [
    "%lprun -f cluster cluster()\n",
    "#  11.962s"
   ]
  },
  {
   "cell_type": "code",
   "execution_count": null,
   "metadata": {},
   "outputs": [],
   "source": [
    "nbrs = NearestNeighbors(n_neighbors=1).fit(km.cluster_centers_)\n",
    "hist_dict = {}\n",
    "for img in index_descriptors:\n",
    "    dist, idx = nbrs.kneighbors(index_descriptors[img])\n",
    "    hist = np.zeros((1, 1000))\n",
    "    for i in idx:\n",
    "        hist[:,i-1] += 1\n",
    "    hist_dict[img] = hist"
   ]
  },
  {
   "cell_type": "code",
   "execution_count": null,
   "metadata": {},
   "outputs": [],
   "source": [
    "print(1)"
   ]
  },
  {
   "cell_type": "code",
   "execution_count": null,
   "metadata": {},
   "outputs": [],
   "source": []
  }
 ],
 "metadata": {
  "kernelspec": {
   "display_name": "Python 3",
   "language": "python",
   "name": "python3"
  },
  "language_info": {
   "codemirror_mode": {
    "name": "ipython",
    "version": 3
   },
   "file_extension": ".py",
   "mimetype": "text/x-python",
   "name": "python",
   "nbconvert_exporter": "python",
   "pygments_lexer": "ipython3",
   "version": "3.6.4"
  }
 },
 "nbformat": 4,
 "nbformat_minor": 2
}
