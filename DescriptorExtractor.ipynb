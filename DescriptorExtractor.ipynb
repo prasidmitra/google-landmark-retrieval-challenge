{
 "cells": [
  {
   "cell_type": "code",
   "execution_count": 1,
   "metadata": {
    "scrolled": true
   },
   "outputs": [],
   "source": [
    "import cv2\n",
    "import os\n",
    "from matplotlib import pyplot as plt\n",
    "from sklearn.cluster import KMeans\n",
    "from collections import Counter\n",
    "from sklearn.neighbors import NearestNeighbors\n",
    "import numpy as np\n",
    "import bz2, gzip, pickle"
   ]
  },
  {
   "cell_type": "code",
   "execution_count": 2,
   "metadata": {},
   "outputs": [],
   "source": [
    "%load_ext line_profiler"
   ]
  },
  {
   "cell_type": "code",
   "execution_count": 3,
   "metadata": {},
   "outputs": [],
   "source": [
    "index_im_fol = os.path.abspath(\"Images/index\")\n",
    "index_images_nl = [x for x in os.listdir(index_im_fol)]\n",
    "index_images = [os.path.join(index_im_fol, x) for x in os.listdir(index_im_fol)]"
   ]
  },
  {
   "cell_type": "code",
   "execution_count": 4,
   "metadata": {},
   "outputs": [],
   "source": [
    "index_descriptors = {}\n",
    "surf = cv2.xfeatures2d.SURF_create(1000)"
   ]
  },
  {
   "cell_type": "code",
   "execution_count": 5,
   "metadata": {},
   "outputs": [],
   "source": [
    "# def multi_descrip(idx, image):\n",
    "#     surf = cv2.xfeatures2d.SURF_create(10000)\n",
    "#     global index_descriptors\n",
    "#     img = cv2.imread(image)\n",
    "#     img = cv2.cvtColor(img, cv2.COLOR_BGR2GRAY)\n",
    "#     kp, des = surf.detectAndCompute(img,None)\n",
    "#     if des is not None:\n",
    "#         return (idx,dex)"
   ]
  },
  {
   "cell_type": "code",
   "execution_count": 6,
   "metadata": {},
   "outputs": [],
   "source": [
    "# def parallelize_multi_descrip(kargs):\n",
    "#     multi_descrip(*kargs)"
   ]
  },
  {
   "cell_type": "code",
   "execution_count": 7,
   "metadata": {},
   "outputs": [],
   "source": [
    "def pickle_desc(i_desc, count):\n",
    "    with gzip.open('index_descrip/descriptor_dictionary_' + str(count) + '.pickle', 'wb') as file:\n",
    "        pickle.dump(i_desc, file, protocol=pickle.HIGHEST_PROTOCOL)"
   ]
  },
  {
   "cell_type": "code",
   "execution_count": 8,
   "metadata": {},
   "outputs": [],
   "source": [
    "count = 0\n",
    "def descrip():\n",
    "    global index_descriptors, count\n",
    "    for idx, image in enumerate(index_images):\n",
    "        img = cv2.imread(image)\n",
    "        img = cv2.cvtColor(img, cv2.COLOR_BGR2GRAY)\n",
    "        kp, des = surf.detectAndCompute(img,None)\n",
    "        if des is not None:\n",
    "            index_descriptors[index_images_nl[idx]] = des\n",
    "        if idx % 1000 == 0 and idx != 0:\n",
    "            pickle_desc(index_descriptors, count)\n",
    "            print('Saved: ', count)\n",
    "            count += 1\n",
    "            del index_descriptors\n",
    "            index_descriptors = {}\n",
    "        del img\n",
    "        del kp\n",
    "        del des"
   ]
  },
  {
   "cell_type": "code",
   "execution_count": 9,
   "metadata": {},
   "outputs": [
    {
     "name": "stdout",
     "output_type": "stream",
     "text": [
      "Saved:  0\n",
      "Saved:  1\n",
      "Saved:  2\n",
      "Saved:  3\n",
      "Saved:  4\n",
      "Saved:  5\n",
      "Saved:  6\n",
      "Saved:  7\n",
      "Saved:  8\n",
      "Saved:  9\n",
      "Saved:  10\n",
      "Saved:  11\n",
      "Saved:  12\n",
      "Saved:  13\n",
      "Saved:  14\n",
      "Saved:  15\n",
      "Saved:  16\n",
      "Saved:  17\n",
      "Saved:  18\n",
      "Saved:  19\n",
      "Saved:  20\n",
      "Saved:  21\n",
      "Saved:  22\n",
      "Saved:  23\n",
      "Saved:  24\n",
      "Saved:  25\n",
      "Saved:  26\n",
      "Saved:  27\n",
      "Saved:  28\n",
      "Saved:  29\n",
      "Saved:  30\n",
      "Saved:  31\n",
      "Saved:  32\n",
      "Saved:  33\n",
      "Saved:  34\n",
      "Saved:  35\n",
      "Saved:  36\n",
      "Saved:  37\n",
      "Saved:  38\n",
      "Saved:  39\n",
      "Saved:  40\n",
      "Saved:  41\n",
      "Saved:  42\n",
      "Saved:  43\n",
      "Saved:  44\n",
      "Saved:  45\n",
      "Saved:  46\n",
      "Saved:  47\n",
      "Saved:  48\n",
      "Saved:  49\n",
      "Saved:  50\n",
      "Saved:  51\n",
      "Saved:  52\n",
      "Saved:  53\n",
      "Saved:  54\n",
      "Saved:  55\n",
      "Saved:  56\n",
      "Saved:  57\n",
      "Saved:  58\n",
      "Saved:  59\n",
      "Saved:  60\n",
      "Saved:  61\n",
      "Saved:  62\n",
      "Saved:  63\n",
      "Saved:  64\n",
      "Saved:  65\n",
      "Saved:  66\n",
      "Saved:  67\n",
      "Saved:  68\n",
      "Saved:  69\n",
      "Saved:  70\n",
      "Saved:  71\n",
      "Saved:  72\n",
      "Saved:  73\n",
      "Saved:  74\n",
      "Saved:  75\n",
      "Saved:  76\n",
      "Saved:  77\n",
      "Saved:  78\n",
      "Saved:  79\n",
      "Saved:  80\n",
      "Saved:  81\n",
      "Saved:  82\n",
      "Saved:  83\n",
      "Saved:  84\n",
      "Saved:  85\n",
      "Saved:  86\n",
      "Saved:  87\n",
      "Saved:  88\n",
      "Saved:  89\n",
      "Saved:  90\n",
      "Saved:  91\n",
      "Saved:  92\n",
      "Saved:  93\n",
      "Saved:  94\n",
      "Saved:  95\n",
      "Saved:  96\n",
      "Saved:  97\n"
     ]
    },
    {
     "ename": "KeyboardInterrupt",
     "evalue": "",
     "output_type": "error",
     "traceback": [
      "\u001b[0;31m---------------------------------------------------------------------------\u001b[0m",
      "\u001b[0;31mKeyboardInterrupt\u001b[0m                         Traceback (most recent call last)",
      "\u001b[0;32m<ipython-input-9-e412aeae60aa>\u001b[0m in \u001b[0;36m<module>\u001b[0;34m()\u001b[0m\n\u001b[0;32m----> 1\u001b[0;31m \u001b[0mdescrip\u001b[0m\u001b[0;34m(\u001b[0m\u001b[0;34m)\u001b[0m\u001b[0;34m\u001b[0m\u001b[0m\n\u001b[0m\u001b[1;32m      2\u001b[0m \u001b[0;31m# 70s\u001b[0m\u001b[0;34m\u001b[0m\u001b[0;34m\u001b[0m\u001b[0m\n",
      "\u001b[0;32m<ipython-input-8-2e127c1b1626>\u001b[0m in \u001b[0;36mdescrip\u001b[0;34m()\u001b[0m\n\u001b[1;32m      5\u001b[0m         \u001b[0mimg\u001b[0m \u001b[0;34m=\u001b[0m \u001b[0mcv2\u001b[0m\u001b[0;34m.\u001b[0m\u001b[0mimread\u001b[0m\u001b[0;34m(\u001b[0m\u001b[0mimage\u001b[0m\u001b[0;34m)\u001b[0m\u001b[0;34m\u001b[0m\u001b[0m\n\u001b[1;32m      6\u001b[0m         \u001b[0mimg\u001b[0m \u001b[0;34m=\u001b[0m \u001b[0mcv2\u001b[0m\u001b[0;34m.\u001b[0m\u001b[0mcvtColor\u001b[0m\u001b[0;34m(\u001b[0m\u001b[0mimg\u001b[0m\u001b[0;34m,\u001b[0m \u001b[0mcv2\u001b[0m\u001b[0;34m.\u001b[0m\u001b[0mCOLOR_BGR2GRAY\u001b[0m\u001b[0;34m)\u001b[0m\u001b[0;34m\u001b[0m\u001b[0m\n\u001b[0;32m----> 7\u001b[0;31m         \u001b[0mkp\u001b[0m\u001b[0;34m,\u001b[0m \u001b[0mdes\u001b[0m \u001b[0;34m=\u001b[0m \u001b[0msurf\u001b[0m\u001b[0;34m.\u001b[0m\u001b[0mdetectAndCompute\u001b[0m\u001b[0;34m(\u001b[0m\u001b[0mimg\u001b[0m\u001b[0;34m,\u001b[0m\u001b[0;32mNone\u001b[0m\u001b[0;34m)\u001b[0m\u001b[0;34m\u001b[0m\u001b[0m\n\u001b[0m\u001b[1;32m      8\u001b[0m         \u001b[0;32mif\u001b[0m \u001b[0mdes\u001b[0m \u001b[0;32mis\u001b[0m \u001b[0;32mnot\u001b[0m \u001b[0;32mNone\u001b[0m\u001b[0;34m:\u001b[0m\u001b[0;34m\u001b[0m\u001b[0m\n\u001b[1;32m      9\u001b[0m             \u001b[0mindex_descriptors\u001b[0m\u001b[0;34m[\u001b[0m\u001b[0mindex_images_nl\u001b[0m\u001b[0;34m[\u001b[0m\u001b[0midx\u001b[0m\u001b[0;34m]\u001b[0m\u001b[0;34m]\u001b[0m \u001b[0;34m=\u001b[0m \u001b[0mdes\u001b[0m\u001b[0;34m\u001b[0m\u001b[0m\n",
      "\u001b[0;31mKeyboardInterrupt\u001b[0m: "
     ]
    }
   ],
   "source": [
    "descrip()\n",
    "# 70s"
   ]
  },
  {
   "cell_type": "code",
   "execution_count": null,
   "metadata": {},
   "outputs": [],
   "source": []
  },
  {
   "cell_type": "code",
   "execution_count": 12,
   "metadata": {
    "scrolled": true
   },
   "outputs": [],
   "source": [
    "descrip_vec = None\n",
    "for des in index_descriptors.values():\n",
    "    if descrip_vec is None:\n",
    "        descrip_vec = des\n",
    "    else:\n",
    "        descrip_vec = np.concatenate((descrip_vec, des), axis=0)"
   ]
  },
  {
   "cell_type": "code",
   "execution_count": 13,
   "metadata": {},
   "outputs": [
    {
     "data": {
      "text/plain": [
       "(136, 64)"
      ]
     },
     "execution_count": 13,
     "metadata": {},
     "output_type": "execute_result"
    }
   ],
   "source": [
    "descrip_vec.shape"
   ]
  },
  {
   "cell_type": "code",
   "execution_count": 14,
   "metadata": {},
   "outputs": [],
   "source": [
    "with gzip.open('descrip_vec.pickle', 'wb') as file:\n",
    "    pickle.dump(index_descriptors, file, protocol=pickle.HIGHEST_PROTOCOL)"
   ]
  },
  {
   "cell_type": "code",
   "execution_count": null,
   "metadata": {},
   "outputs": [],
   "source": []
  },
  {
   "cell_type": "code",
   "execution_count": null,
   "metadata": {},
   "outputs": [],
   "source": []
  },
  {
   "cell_type": "code",
   "execution_count": 49,
   "metadata": {},
   "outputs": [],
   "source": [
    "km = None\n",
    "def cluster():\n",
    "    global km\n",
    "    km = KMeans(n_clusters = 1000).fit(descrip_vec)"
   ]
  },
  {
   "cell_type": "markdown",
   "metadata": {},
   "source": [
    "The documentation suggests to try MiniBatchKMeans for large data, much faster than regular KMeans"
   ]
  },
  {
   "cell_type": "code",
   "execution_count": null,
   "metadata": {},
   "outputs": [],
   "source": [
    "%lprun -f cluster cluster()\n",
    "#  11.962s"
   ]
  },
  {
   "cell_type": "code",
   "execution_count": null,
   "metadata": {},
   "outputs": [],
   "source": [
    "nbrs = NearestNeighbors(n_neighbors=1).fit(km.cluster_centers_)\n",
    "hist_dict = {}\n",
    "for img in index_descriptors:\n",
    "    dist, idx = nbrs.kneighbors(index_descriptors[img])\n",
    "    hist = np.zeros((1, 1000))\n",
    "    for i in idx:\n",
    "        hist[:,i-1] += 1\n",
    "    hist_dict[img] = hist"
   ]
  },
  {
   "cell_type": "code",
   "execution_count": null,
   "metadata": {},
   "outputs": [],
   "source": [
    "print(1)"
   ]
  },
  {
   "cell_type": "code",
   "execution_count": null,
   "metadata": {},
   "outputs": [],
   "source": []
  }
 ],
 "metadata": {
  "kernelspec": {
   "display_name": "Python 3",
   "language": "python",
   "name": "python3"
  },
  "language_info": {
   "codemirror_mode": {
    "name": "ipython",
    "version": 3
   },
   "file_extension": ".py",
   "mimetype": "text/x-python",
   "name": "python",
   "nbconvert_exporter": "python",
   "pygments_lexer": "ipython3",
   "version": "3.6.4"
  }
 },
 "nbformat": 4,
 "nbformat_minor": 2
}
